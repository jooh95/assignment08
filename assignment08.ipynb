{
 "cells": [
  {
   "cell_type": "markdown",
   "metadata": {},
   "source": [
    "# Assignment08 : Polynomial Least Square in Python\n",
    "# Name : Joonoh-Oh\n",
    "# Student-ID : 20146136\n",
    "# Github : https://github.com/jooh95/assignment08"
   ]
  },
  {
   "cell_type": "markdown",
   "metadata": {},
   "source": [
    "# Set the training data file and test data fle."
   ]
  },
  {
   "cell_type": "code",
   "execution_count": 3,
   "metadata": {},
   "outputs": [],
   "source": [
    "import matplotlib.pyplot as plt\n",
    "import numpy as np\n",
    "\n",
    "file_data_train = \"mnist_train.csv\"\n",
    "file_data_test  = \"mnist_test.csv\"\n",
    "\n",
    "h_data_train    = open(file_data_train, \"r\")\n",
    "h_data_test     = open(file_data_test, \"r\")\n",
    "\n",
    "data_train      = h_data_train.readlines()\n",
    "data_test       = h_data_test.readlines()\n",
    "\n",
    "h_data_train.close()\n",
    "h_data_test.close()\n",
    "\n",
    "size_row    = 28    # height of the image\n",
    "size_col    = 28    # width of the image\n",
    "\n",
    "num_train   = len(data_train)   # number of training images\n",
    "num_test    = len(data_test)    # number of testing images"
   ]
  },
  {
   "cell_type": "markdown",
   "metadata": {},
   "source": [
    "# Define the feature function."
   ]
  },
  {
   "cell_type": "code",
   "execution_count": 4,
   "metadata": {},
   "outputs": [],
   "source": [
    "def f(x):\n",
    "    e = np.ones(size_row * size_col)\n",
    "    y = e * x\n",
    "    return y.T"
   ]
  },
  {
   "cell_type": "markdown",
   "metadata": {},
   "source": [
    "# Define the sign function."
   ]
  },
  {
   "cell_type": "code",
   "execution_count": 5,
   "metadata": {},
   "outputs": [],
   "source": [
    "def sign(x):\n",
    "    if(x > 0):\n",
    "        return 1\n",
    "    else :\n",
    "        return -1  "
   ]
  },
  {
   "cell_type": "markdown",
   "metadata": {},
   "source": [
    "# Define the normalize function."
   ]
  },
  {
   "cell_type": "code",
   "execution_count": 6,
   "metadata": {},
   "outputs": [],
   "source": [
    "def normalize(data):\n",
    "\n",
    "    data_normalized = (data - min(data)) / (max(data) - min(data))\n",
    "\n",
    "    return(data_normalized)"
   ]
  },
  {
   "cell_type": "markdown",
   "metadata": {},
   "source": [
    "# Make a matrix each column of which represents an images in a vector form "
   ]
  },
  {
   "cell_type": "code",
   "execution_count": 7,
   "metadata": {},
   "outputs": [],
   "source": [
    "list_image_train    = np.empty((size_row * size_col, num_train), dtype=float)\n",
    "list_label_train    = np.empty(num_train, dtype=int)\n",
    "\n",
    "list_image_test     = np.empty((size_row * size_col, num_test), dtype=float)\n",
    "list_label_test     = np.empty(num_test, dtype=int)"
   ]
  },
  {
   "cell_type": "markdown",
   "metadata": {},
   "source": [
    "# Get the training data."
   ]
  },
  {
   "cell_type": "code",
   "execution_count": 8,
   "metadata": {},
   "outputs": [],
   "source": [
    "count = 0\n",
    "for line in data_train:\n",
    "\n",
    "    line_data   = line.split(',')\n",
    "    label       = line_data[0]\n",
    "    im_vector   = np.asfarray(line_data[1:])\n",
    "    im_vector   = normalize(im_vector)\n",
    "    \n",
    "    if(label == '0'):\n",
    "        list_label_train[count] = 0\n",
    "    else :\n",
    "        list_label_train[count] = 1\n",
    "\n",
    "    list_image_train[:, count]  = im_vector \n",
    "\n",
    "    count += 1"
   ]
  },
  {
   "cell_type": "markdown",
   "metadata": {},
   "source": [
    "# Make the training data into a vector."
   ]
  },
  {
   "cell_type": "code",
   "execution_count": 9,
   "metadata": {},
   "outputs": [],
   "source": [
    "A = np.empty((num_train, size_row * size_col), dtype=float)\n",
    "\n",
    "for i in range(0, num_train):\n",
    "    A[i] = f(list_image_train[:,i])"
   ]
  },
  {
   "cell_type": "markdown",
   "metadata": {},
   "source": [
    "# Delete zero columns because of linear independence."
   ]
  },
  {
   "cell_type": "code",
   "execution_count": 10,
   "metadata": {},
   "outputs": [],
   "source": [
    "zero_idx = []\n",
    "for i in range(0, size_row * size_col):\n",
    "    if np.all(A.T[i] == 0):\n",
    "        zero_idx.append(i)\n",
    "\n",
    "A = np.delete(A, zero_idx, axis=1)"
   ]
  },
  {
   "cell_type": "markdown",
   "metadata": {},
   "source": [
    "# Calculate the theta value."
   ]
  },
  {
   "cell_type": "code",
   "execution_count": 11,
   "metadata": {},
   "outputs": [
    {
     "name": "stdout",
     "output_type": "stream",
     "text": [
      "Theta Value\n",
      "[ 6.83005178e+15 -3.11923624e+15  2.33277539e+16 -4.92593369e+17\n",
      " -1.81469982e+03  6.52284185e+02 -2.45635457e+01  9.79848329e+00\n",
      " -2.42563365e+00  4.65744625e-01 -2.19071918e-02 -1.78687831e-01\n",
      "  4.08571279e-01 -6.31186023e-01  1.96237268e-01 -1.51723672e-01\n",
      "  2.51420574e-01 -3.15374414e-01  4.03466108e-01 -1.67053500e+00\n",
      "  2.77105828e+00 -2.46781463e+00 -8.04724419e+00  1.34072344e+01\n",
      "  7.33909599e+00  8.41355271e+01  3.04392363e+00  1.08577912e+01\n",
      " -3.94198143e+00  1.56372302e+00  1.86202631e-01 -1.38959054e-01\n",
      "  9.92346860e-02  3.48863265e-02 -5.90389204e-03  1.65315126e-01\n",
      " -9.55186907e-02  9.55310634e-02  9.88963218e-02 -1.90517613e-02\n",
      "  9.41741411e-02  4.54951441e-02 -1.29544129e-01  1.51789035e-01\n",
      "  3.81260518e-01 -1.52232430e-02 -2.61710963e+00  5.21163058e+00\n",
      " -1.07677675e+00 -9.11897815e+00  2.18739105e+00  8.30274263e-01\n",
      " -2.89163383e-01  1.42955209e-01 -8.70846447e-02  8.49048336e-02\n",
      " -1.16795493e-02  2.60641181e-02  5.98048382e-02 -5.04479133e-02\n",
      "  7.63383359e-02  1.67881814e-02  1.03847435e-02  9.01790628e-02\n",
      "  1.90078419e-02  1.15995363e-01 -6.19092834e-02  1.91495783e-01\n",
      " -2.00073011e-01  5.24696324e-01 -6.97762934e-01  2.29065720e+00\n",
      "  1.62127792e+01  6.28503598e+01 -1.06239861e+01 -9.18647063e+00\n",
      "  7.19874930e-01  1.26267106e-02  2.09522583e-02  4.48284605e-02\n",
      " -3.29086191e-02  5.17906377e-02  2.04859392e-02  6.95126934e-03\n",
      "  4.11874108e-02 -6.02296156e-03  4.21587889e-02 -7.19610412e-03\n",
      "  2.45557269e-02  1.35284550e-02  1.87281017e-02 -1.49928431e-03\n",
      "  3.24268810e-02 -1.60724657e-02  8.50478937e-02 -4.61147376e-02\n",
      "  2.98390727e-01 -1.20637063e+00  2.66259110e+00 -1.51080700e+01\n",
      "  7.82615656e-01  1.54842222e+00 -2.75771134e-01  7.54836685e-02\n",
      "  1.72471787e-02 -1.32054507e-02 -6.98340038e-03  1.64670650e-02\n",
      " -3.04505988e-03  1.46683481e-02  2.91813326e-02  2.15838094e-03\n",
      "  6.22449251e-03 -9.05595488e-03  1.29093250e-02  7.98584860e-03\n",
      "  7.74791355e-03  9.92000953e-03  2.60740187e-02  2.78646690e-02\n",
      "  4.58146266e-02  4.26978767e-02 -1.76613077e-03  2.41483777e-01\n",
      " -4.52795796e-01  1.01289170e+01 -2.45749343e+01  1.56616820e-01\n",
      "  2.97142823e-01 -3.39447475e-02 -3.96870309e-02 -2.72841875e-03\n",
      "  5.01123155e-02  1.52346683e-02  4.21546968e-03  3.71806627e-02\n",
      " -3.08299888e-02  3.75161797e-02 -2.32740516e-02  2.00889740e-02\n",
      "  2.29983589e-02 -7.70057135e-03  5.13265127e-03  9.11549965e-03\n",
      "  6.42353365e-03  2.04311968e-02 -1.10252733e-02 -6.99002141e-03\n",
      "  3.70388250e-02  8.18762275e-02  1.39112054e-02  1.30683436e-01\n",
      " -4.66376610e-01 -7.49372810e+01  2.30616687e+00  1.03711765e+00\n",
      " -1.67212882e-01  5.59150038e-02 -1.14360863e-02 -7.78620386e-03\n",
      " -6.05370484e-03  2.07536707e-02 -3.01016139e-02  3.22761138e-02\n",
      " -2.16559813e-02 -6.52170205e-03 -7.81782561e-03 -8.95012435e-03\n",
      " -1.85036202e-02  1.41782320e-02 -5.01259378e-03 -1.35132476e-02\n",
      "  7.30031192e-04 -8.44027051e-03  2.75526737e-03  7.62066509e-03\n",
      " -9.24508412e-04  8.36713196e-02  5.58688193e-02  4.70079491e-02\n",
      "  2.78893973e-01  1.28351848e+01 -6.51503850e-01 -5.66649092e-02\n",
      "  2.99801448e-02  3.96614317e-02  3.28989140e-03 -2.24204649e-02\n",
      "  9.40810434e-03  1.77713450e-03 -2.67255852e-03  1.55338021e-02\n",
      "  4.94312942e-03  9.02709691e-04  1.23952136e-03  9.00282291e-03\n",
      "  4.46587895e-03 -3.18118886e-02  2.75014781e-03  1.85200016e-02\n",
      " -1.33803353e-02 -1.28627948e-02  2.16113938e-02 -2.71956065e-02\n",
      "  2.45000049e-02  1.08214241e-01  1.37915502e-01 -1.63360905e-01\n",
      "  1.65880827e+00  1.80892165e+01 -2.43165247e-01  9.08119878e-02\n",
      " -4.78444805e-03  2.08043459e-02 -2.18302993e-02 -1.45955660e-02\n",
      " -3.53564947e-03 -1.26694107e-03  4.54597787e-03  3.79324276e-03\n",
      "  2.00161246e-02  1.84582475e-03 -1.13682906e-02  1.19229428e-03\n",
      " -4.76973435e-03  2.35654750e-02  5.29470995e-03 -7.77786886e-03\n",
      " -5.78591071e-03  4.67627348e-04 -1.81430329e-02  1.38319354e-02\n",
      " -2.16140444e-02  4.83798478e-02  1.30842645e-01  2.53067167e-02\n",
      "  6.68469313e-01 -1.13477116e+01  6.75120814e-01 -1.21284763e-01\n",
      "  7.40031397e-02 -4.95331457e-02  3.27949735e-02  4.11708746e-03\n",
      "  1.33802988e-02 -1.50075085e-03 -1.50278539e-02 -9.76841795e-03\n",
      "  4.65337958e-03  6.23436320e-03 -2.72346213e-03  9.85290636e-03\n",
      " -9.71663484e-03  2.96225999e-03 -1.00477104e-03 -2.35367338e-03\n",
      " -4.90466476e-03 -1.78692542e-02 -1.21040632e-02 -3.53299778e-02\n",
      " -5.60036872e-02  4.42168134e-02  1.41025294e-01  3.69807199e-01\n",
      " -2.42537354e+00  4.47576321e+00 -6.07175805e-01  1.95181659e-01\n",
      "  1.61202456e-02  2.51816880e-02  1.51217355e-02 -3.58328457e-04\n",
      " -2.76639376e-02  5.01589444e-03  1.10699338e-02 -1.09357692e-02\n",
      " -4.35457516e-03  8.95375684e-03 -1.67078458e-04  5.76610520e-02\n",
      "  3.20431343e-02 -1.34815351e-03  1.23127926e-02 -1.11286429e-02\n",
      " -1.80640036e-02 -1.42356345e-02 -1.98557613e-02 -9.65513406e-05\n",
      " -2.83017071e-02 -6.41592437e-02  2.93969155e-01 -8.55121370e-02\n",
      "  1.80388397e+00 -6.99139935e+00  1.11658112e+00 -6.15834080e-02\n",
      " -4.15446434e-02  2.92261621e-02  2.82865815e-02 -1.35030483e-02\n",
      "  1.88164466e-02 -1.07811222e-02  5.44766203e-03 -1.39578426e-03\n",
      "  3.06514684e-02  2.85269223e-03 -2.15817630e-02  1.12144056e-01\n",
      "  8.99214481e-03  2.51079817e-02  4.06799007e-02  1.55020141e-02\n",
      "  9.03873177e-03 -2.35564016e-02 -2.28197397e-02  1.35436467e-02\n",
      " -5.40514263e-03 -1.99697434e-02 -1.38770851e-02 -6.38681916e-02\n",
      "  5.13307205e-01 -4.49632094e+00 -1.70155695e+00  1.62267663e-01\n",
      "  2.39810066e-02  5.76349014e-02  2.48810222e-02  1.77141338e-02\n",
      "  4.34109429e-03  1.47550170e-02  2.58366420e-03  9.26374441e-03\n",
      "  3.44690831e-03  8.70445839e-04  1.42280427e-04  1.09055834e-01\n",
      "  1.01621782e-02 -1.69666578e-03  4.65837305e-02  2.32563550e-02\n",
      "  6.53295859e-03  1.52547398e-02  2.33564484e-02 -6.27945154e-02\n",
      " -4.14050831e-02  9.60534784e-02  4.93046490e-02  2.84185399e-01\n",
      " -5.71607806e-01  6.38899415e+13  2.86778954e+00 -6.54603632e-02\n",
      "  3.35097154e-02  4.58982841e-02  1.92496253e-02  6.09066813e-03\n",
      " -7.14982962e-04 -8.92610845e-03  2.56659547e-03 -1.41984621e-02\n",
      "  1.69659475e-02 -1.97333168e-02  1.91760172e-02  8.29757805e-02\n",
      "  1.33466219e-03  1.16297891e-02  5.95120765e-02  1.90243590e-02\n",
      "  3.79001169e-02 -2.74060371e-03 -4.49332903e-02  1.96697393e-02\n",
      "  4.97694115e-03 -1.02326183e-02 -6.69977298e-02  3.57805979e-01\n",
      "  6.44381852e-01 -1.95123335e+14  6.67168125e-01 -1.91132103e-01\n",
      "  1.43868314e-01 -1.57212448e-02 -2.23395987e-03  1.17556724e-03\n",
      " -1.33837610e-02 -5.04428219e-03 -6.06771825e-03 -7.35649878e-03\n",
      "  1.29583639e-02 -1.90673171e-02  4.17212740e-02  9.30747651e-02\n",
      " -8.59256288e-03  2.22439601e-02  6.29376639e-02  4.57323177e-03\n",
      "  6.70933613e-03 -8.61448390e-03  2.10285971e-02 -1.99015328e-02\n",
      " -1.65927123e-02  2.47031369e-02  1.11727977e-01 -2.15691232e-01\n",
      "  5.03160544e-01  3.41465836e+13 -1.97527508e+00 -1.51608917e-01\n",
      "  1.00598461e-01 -1.88870977e-02 -9.89139203e-03 -7.65877256e-04\n",
      " -1.05833019e-03 -1.15038725e-02 -2.76002388e-03 -6.91698839e-03\n",
      "  1.79950421e-02  2.29429957e-02  3.46823158e-02  7.46921732e-02\n",
      "  7.01241221e-03  4.57198437e-02  3.29874385e-02  1.45090699e-02\n",
      "  9.75385102e-04 -9.25379363e-03 -1.58866308e-02  3.64001307e-02\n",
      "  4.99500571e-03 -2.30682506e-02 -5.02366157e-02  3.56475014e-01\n",
      " -8.95742495e-02  6.10319399e-01  2.37361925e-01  3.88510388e-02\n",
      "  1.79291483e-02 -5.85819360e-03 -2.00313134e-04 -1.86679971e-02\n",
      "  7.18255557e-03  1.13808582e-03 -6.44367794e-03  2.99653224e-02\n",
      " -6.42147656e-03  4.23016364e-02  5.71522254e-02  5.36845548e-02\n",
      "  3.06567347e-02 -7.31034123e-03 -2.50133831e-03  1.28203631e-03\n",
      "  1.65085782e-02 -1.43948765e-03 -1.22058817e-02 -5.29103256e-03\n",
      "  1.90749597e-02  6.27463516e-02 -1.59412778e-01  6.51767342e-01\n",
      "  1.85609955e-01 -5.32589941e-01 -1.76006933e-01  1.11241158e-01\n",
      "  1.26042458e-02 -3.25634980e-03  1.19634773e-02 -9.31926499e-03\n",
      " -2.59186037e-02 -1.29983645e-02  6.89370509e-03  1.15354999e-03\n",
      "  1.99199167e-02  3.19260530e-02  3.92669748e-02 -7.11054293e-03\n",
      "  8.33145207e-03  6.68029948e-03  1.95429636e-02 -8.33516002e-03\n",
      "  1.98534918e-02 -2.30518867e-03  6.98868221e-03  5.28014514e-02\n",
      " -1.94158445e-02 -2.14383048e-02  1.82576457e-01  6.85284422e-01\n",
      " -5.51029602e+00  4.51545496e-01  1.60312436e-01 -1.32428900e-02\n",
      "  1.38093889e-02  3.23915943e-03  8.27516644e-03 -1.80671033e-02\n",
      " -9.80039487e-03 -2.37092820e-02  5.00451514e-03  2.11365264e-03\n",
      "  5.60740554e-03 -6.59712173e-03  1.16417638e-02  1.01721911e-02\n",
      "  1.03605536e-03  4.27050421e-03 -5.11557931e-03  3.82312976e-04\n",
      " -1.44527783e-02  2.61952653e-03 -5.85541929e-03 -1.54871646e-02\n",
      "  8.69623892e-03  1.17000538e-01 -2.71116245e-02 -3.50446981e-01\n",
      " -6.42090863e-01 -8.78640415e-02  8.77601590e-02  1.05718740e-02\n",
      " -8.81225429e-03 -3.19384336e-03 -4.18889324e-03  2.62182157e-03\n",
      " -1.07478124e-03 -1.23734227e-02  1.33814101e-02 -8.27175023e-03\n",
      "  2.19235197e-02  1.68925903e-02  5.56438579e-03  8.72657080e-03\n",
      " -7.71715142e-04  1.90514136e-02 -5.12111379e-03  1.42159845e-02\n",
      " -2.64002168e-02  7.28959176e-03  3.50683299e-02  9.91980699e-03\n",
      " -7.45304246e-02  6.61810574e-02  6.70841838e-01 -9.95289590e+05\n",
      "  6.87622390e-01  1.49452667e-04  2.49077161e-02 -2.19792474e-02\n",
      "  6.80253264e-03  1.22294756e-02  2.20298823e-03  1.02429742e-03\n",
      " -2.83756556e-04 -1.04662299e-02 -5.64044227e-03 -5.12873891e-03\n",
      "  5.96939860e-03  6.56911069e-03  6.80267663e-03  9.94748529e-03\n",
      "  1.13838380e-02 -4.37793690e-03  3.03840782e-03 -1.61807134e-03\n",
      "  8.59113660e-04 -1.24837369e-02  4.21614848e-03 -6.55728282e-03\n",
      " -1.27796052e-02 -1.37452592e-02 -2.01679730e+05  1.02739595e+06\n",
      " -1.32441217e+00  6.16880918e-02 -1.77121251e-02  3.26281237e-02\n",
      " -1.67918236e-02 -2.95780771e-02 -2.33767455e-02  3.08919015e-03\n",
      " -4.56118350e-03  2.03543186e-02  6.53083224e-03  1.16158241e-03\n",
      " -1.39464150e-02  6.88218423e-03  1.85987353e-02  2.63656633e-02\n",
      "  1.50889800e-02  1.77044384e-02 -1.85196105e-03  6.06521657e-03\n",
      " -1.17011728e-02 -5.44434071e-02  3.78311871e-02 -3.09501464e-02\n",
      "  8.58205856e-02 -4.59255356e-01  1.09242227e+05 -1.09845742e-01\n",
      "  2.46438706e-02  3.28463204e-02  2.50791363e-02  4.16946214e-02\n",
      "  4.59083455e-03  1.56097325e-02  2.85821919e-03 -5.41667971e-03\n",
      "  3.56952616e-03  4.34675451e-03  1.56266376e-02  7.31015321e-03\n",
      " -9.22419283e-04 -1.24860316e-02  1.44460033e-02  2.04029795e-02\n",
      "  2.40154161e-02  4.59348431e-02  9.39226674e-03  2.42948575e-02\n",
      "  4.13607946e-02 -2.93662909e-02  1.85203907e-01  4.05879250e-01\n",
      "  5.45570480e-01 -1.98875735e-01 -4.06463465e-03  1.16932739e-01\n",
      " -2.67259642e-02  2.83368362e-02 -1.69505626e-03  7.48735795e-03\n",
      "  1.91814321e-02  2.29773952e-02  2.03073495e-02 -2.02739265e-03\n",
      "  1.90970999e-02  2.10866842e-02  1.94056190e-02  1.96536198e-02\n",
      "  1.82347675e-02  3.27944626e-02  2.62821550e-02  7.03432544e-02\n",
      "  4.16582680e-02  7.97911522e-02  2.82598265e-01 -6.32014978e-01\n",
      "  1.62320448e+00  2.55352622e-01  1.87713605e-01  4.67423980e-02\n",
      "  1.02617881e-01  1.61713555e-02  1.01565983e-01  3.03363629e-02\n",
      "  5.63009132e-02  5.19934683e-02  3.04163497e-02  4.73790970e-02\n",
      "  5.62560060e-02  3.38190350e-02  3.98316879e-02  4.06556005e-02\n",
      "  5.02616422e-02  2.59150071e-02  1.87400034e-02  1.07721221e-02\n",
      "  7.02223790e-03 -3.57073711e-02  2.45289584e-02  8.50478665e-02\n",
      "  7.09737542e-01 -7.42562928e-01  1.27167322e+00 -1.08936506e-01\n",
      "  2.14088236e-01  3.10129203e-03  6.52998414e-02  7.52537249e-02\n",
      "  9.32258604e-02  6.74322550e-02  9.63349651e-02  6.09035990e-02\n",
      "  1.02579037e-01  6.21701189e-02  1.11043225e-01  7.21151234e-02\n",
      "  6.69079210e-02  1.07227169e-01  5.33665090e-02 -6.66754453e-02\n",
      "  3.10611423e-01 -1.31986804e-01  6.07791666e-01 -2.22125626e+00\n",
      "  6.71345021e-01 -8.96829635e-01  1.01371452e-01  2.24164434e-01\n",
      "  9.85899925e-02  4.55112757e-02  4.79828481e-02  1.27973320e-01\n",
      "  1.25959044e-02  1.54785748e-01  3.54422842e-02  1.39150077e-01\n",
      "  1.00180756e-01  4.29336214e-02  1.67336845e-01  1.00201459e-01\n",
      " -8.93804761e-02  2.40607545e-01 -2.13816807e-01  6.14254707e-01\n",
      "  1.67057069e+00]\n"
     ]
    }
   ],
   "source": [
    "theta = np.dot(np.dot(np.linalg.inv(np.dot(A.T,A)),A.T),list_label_train[:])\n",
    "\n",
    "print(\"Theta Value\")\n",
    "print(theta)"
   ]
  },
  {
   "cell_type": "markdown",
   "metadata": {},
   "source": [
    "# Visualize the theta."
   ]
  },
  {
   "cell_type": "code",
   "execution_count": 12,
   "metadata": {},
   "outputs": [
    {
     "data": {
      "image/png": "[encoded data removed]",
      "text/plain": [
       "<Figure size 432x288 with 1 Axes>"
      ]
     },
     "metadata": {},
     "output_type": "display_data"
    }
   ],
   "source": [
    "theta_vector = np.zeros((size_row * size_col, ), dtype=float)\n",
    "\n",
    "idx = 0\n",
    "for i in range(0, size_row * size_col):\n",
    "    if(not (i in zero_idx)):\n",
    "        theta_vector[i] = theta[idx]\n",
    "        idx += 1\n",
    "\n",
    "theta_image = np.zeros((size_row, size_col), dtype=float)\n",
    "\n",
    "for i in range(0, 28):\n",
    "    theta_image[i] = theta_vector[i*28:(i+1)*28]\n",
    "    \n",
    "plt.title(\"Theta Image\")\n",
    "plt.imshow(theta_image, cmap='gray')\n",
    "plt.show()"
   ]
  },
  {
   "cell_type": "markdown",
   "metadata": {},
   "source": [
    "# Get the test data."
   ]
  },
  {
   "cell_type": "code",
   "execution_count": 13,
   "metadata": {},
   "outputs": [],
   "source": [
    "count = 0\n",
    "\n",
    "for line in data_test:\n",
    "\n",
    "    line_data   = line.split(',')\n",
    "    label       = line_data[0]\n",
    "    im_vector   = np.asfarray(line_data[1:])\n",
    "    im_vector   = normalize(im_vector)\n",
    "\n",
    "    if(label == '0'):\n",
    "        list_label_test[count] = 0\n",
    "    else :\n",
    "        list_label_test[count] = 1\n",
    "        \n",
    "    list_image_test[:, count]   = im_vector    \n",
    "\n",
    "    count += 1"
   ]
  },
  {
   "cell_type": "markdown",
   "metadata": {},
   "source": [
    "# Make the test data into a vector."
   ]
  },
  {
   "cell_type": "code",
   "execution_count": 14,
   "metadata": {},
   "outputs": [],
   "source": [
    "X = np.empty((num_test, size_row * size_col), dtype=float)\n",
    "for i in range(0, num_test):\n",
    "    X[i] = f(list_image_test[:,i])\n",
    "    \n",
    "X = np.delete(X, zero_idx, axis=1)"
   ]
  },
  {
   "cell_type": "markdown",
   "metadata": {},
   "source": [
    "# Calculate True Positive, False Positive, True Negative, and False Negative. "
   ]
  },
  {
   "cell_type": "code",
   "execution_count": 15,
   "metadata": {},
   "outputs": [
    {
     "name": "stdout",
     "output_type": "stream",
     "text": [
      "True Positive value : 824\n",
      "False Positive value : 9012\n",
      "True Negative value : 8\n",
      "False Negative value : 156\n"
     ]
    }
   ],
   "source": [
    "tp = 0\n",
    "fp = 0\n",
    "tn = 0\n",
    "fn = 0\n",
    "\n",
    "tp_vector = np.zeros((size_row * size_col, ), dtype=float)\n",
    "fp_vector = np.zeros((size_row * size_col, ), dtype=float)\n",
    "tn_vector = np.zeros((size_row * size_col, ), dtype=float)\n",
    "fn_vector = np.zeros((size_row * size_col, ), dtype=float)\n",
    "for i in range(0, num_test) :\n",
    "    if(sign(np.dot(X[i], theta.T)) == 1 and list_label_test[i] == 0):\n",
    "        tp += 1\n",
    "        tp_vector += list_image_test[:,i]\n",
    "    elif(sign(np.dot(X[i], theta.T)) == 1 and list_label_test[i] == 1):\n",
    "        fp += 1\n",
    "        fp_vector += list_image_test[:,i]\n",
    "    elif(sign(np.dot(X[i], theta.T)) == -1 and list_label_test[i] == 1):\n",
    "        tn += 1\n",
    "        tn_vector += list_image_test[:,i]\n",
    "    elif(sign(np.dot(X[i], theta.T)) == -1 and list_label_test[i] == 0):\n",
    "        fn += 1\n",
    "        fn_vector += list_image_test[:,i]\n",
    "\n",
    "print(\"True Positive value : %d\" %tp)\n",
    "print(\"False Positive value : %d\" %fp)\n",
    "print(\"True Negative value : %d\" %tn)\n",
    "print(\"False Negative value : %d\" %fn)   "
   ]
  },
  {
   "cell_type": "markdown",
   "metadata": {},
   "source": [
    "# Visualize True Positive, False Positive, True Negative, and False Negative Average Image."
   ]
  },
  {
   "cell_type": "code",
   "execution_count": 16,
   "metadata": {},
   "outputs": [
    {
     "data": {
      "image/png": "[encoded data removed]",
      "text/plain": [
       "<Figure size 432x288 with 1 Axes>"
      ]
     },
     "metadata": {},
     "output_type": "display_data"
    },
    {
     "data": {
      "image/png": "[encoded data removed]",
      "text/plain": [
       "<Figure size 432x288 with 1 Axes>"
      ]
     },
     "metadata": {},
     "output_type": "display_data"
    },
    {
     "data": {
      "image/png": "[encoded data removed]",
      "text/plain": [
       "<Figure size 432x288 with 1 Axes>"
      ]
     },
     "metadata": {},
     "output_type": "display_data"
    },
    {
     "data": {
      "image/png": "[encoded data removed]",
      "text/plain": [
       "<Figure size 432x288 with 1 Axes>"
      ]
     },
     "metadata": {},
     "output_type": "display_data"
    }
   ],
   "source": [
    "tp_image = np.zeros((size_row, size_col), dtype=float)\n",
    "fp_image = np.zeros((size_row, size_col), dtype=float)\n",
    "tn_image = np.zeros((size_row, size_col), dtype=float)\n",
    "fn_image = np.zeros((size_row, size_col), dtype=float)\n",
    "    \n",
    "for i in range(0, 28):\n",
    "    tp_image[i] = tp_vector[i*28:(i+1)*28] / tp\n",
    "    fp_image[i] = fp_vector[i*28:(i+1)*28] / fp\n",
    "    tn_image[i] = tn_vector[i*28:(i+1)*28] / tn\n",
    "    fn_image[i] = fn_vector[i*28:(i+1)*28] / fn\n",
    "\n",
    "plt.title(\"True Positive Average Image\")\n",
    "plt.imshow(tp_image / tp, cmap='gray')\n",
    "plt.show()\n",
    "\n",
    "plt.title(\"False Positive Average Image\")\n",
    "plt.imshow(fp_image / fp, cmap='gray')\n",
    "plt.show()\n",
    "\n",
    "plt.title(\"True Negative Average Image\")\n",
    "plt.imshow(tn_image / tn, cmap='gray')\n",
    "plt.show()\n",
    "\n",
    "plt.title(\"False Negative Average Image\")\n",
    "plt.imshow(fn_image / fn, cmap='gray')\n",
    "plt.show()"
   ]
  }
 ],
 "metadata": {
  "kernelspec": {
   "display_name": "Python 3",
   "language": "python",
   "name": "python3"
  },
  "language_info": {
   "codemirror_mode": {
    "name": "ipython",
    "version": 3
   },
   "file_extension": ".py",
   "mimetype": "text/x-python",
   "name": "python",
   "nbconvert_exporter": "python",
   "pygments_lexer": "ipython3",
   "version": "3.6.7"
  }
 },
 "nbformat": 4,
 "nbformat_minor": 2
}
